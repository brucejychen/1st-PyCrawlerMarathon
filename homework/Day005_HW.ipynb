{
 "cells": [
  {
   "cell_type": "markdown",
   "metadata": {},
   "source": [
    "# API 資料串接 - 以 Dcard API 實作範例\n",
    "\n",
    "* 利用 urllib 套件的 urlretrieve 方法下載檔案\n",
    "* 了解 Python File I/O 讀檔、寫檔的用法\n",
    "* 能用運用資源管理器 With Statement 優化寫法"
   ]
  },
  {
   "cell_type": "markdown",
   "metadata": {},
   "source": [
    "## 作業目標\n",
    "\n",
    "* 請利用 API: https://www.dcard.tw/_api/forums/pet/posts?popular=true 回答下列問題：\n",
    "\n",
    "1. 這個 API 一次會回傳幾筆資料？每一筆資料包含哪些欄位？\n",
    "2. 取出每一筆資料的「標題」、「貼文時間」、「留言人數」、「按讚人數」\n",
    "3. 計算熱門/非熱門文章的「平均留言人數」與「平均按讚人數」"
   ]
  },
  {
   "cell_type": "code",
   "execution_count": 106,
   "metadata": {},
   "outputs": [
    {
     "name": "stdout",
     "output_type": "stream",
     "text": [
      "30\n",
      "dict_keys(['id', 'title', 'excerpt', 'anonymousSchool', 'anonymousDepartment', 'pinned', 'forumId', 'replyId', 'createdAt', 'updatedAt', 'commentCount', 'likeCount', 'withNickname', 'tags', 'topics', 'meta', 'forumName', 'forumAlias', 'gender', 'school', 'department', 'replyTitle', 'mediaMeta', 'reactions', 'hidden', 'customStyle', 'isSuspiciousAccount', 'layout', 'withImages', 'withVideos', 'media', 'reportReasonText', 'postAvatar'])\n"
     ]
    }
   ],
   "source": [
    "# 1. 這個 API 一次會回傳幾筆資料？每一筆資料包含哪些欄位？\n",
    "\n",
    "import requests\n",
    "import json\n",
    "r = requests.get('https://www.dcard.tw/_api/forums/pet/posts?popular=true')\n",
    "response = r.text\n",
    "\n",
    "datas=json.loads(response)\n",
    "\n",
    "print(len(datas))\n",
    "\n",
    "temp=datas[0]\n",
    "\n",
    "print(temp.keys())\n"
   ]
  },
  {
   "cell_type": "code",
   "execution_count": 107,
   "metadata": {},
   "outputs": [
    {
     "name": "stdout",
     "output_type": "stream",
     "text": [
      "標題: 我養到別人家的貓 貼文時間: 2019-11-27T02:15:28.197Z 留言人數: 24 按讚人數 730\n",
      "標題: 哪裡來的天使 貼文時間: 2019-11-27T03:55:26.087Z 留言人數: 9 按讚人數 571\n",
      "標題: 最近刺蝟有點苦惱…… 貼文時間: 2019-11-27T14:09:04.187Z 留言人數: 15 按讚人數 448\n",
      "標題: 有沒有人想要認養貓😢 貼文時間: 2019-11-27T04:05:54.907Z 留言人數: 17 按讚人數 266\n",
      "標題: 貓咪送養 貼文時間: 2019-11-27T15:53:37.579Z 留言人數: 6 按讚人數 101\n",
      "標題: 我好像養了一顆球（？ 貼文時間: 2019-11-27T02:51:29.228Z 留言人數: 8 按讚人數 73\n",
      "標題: 跪求原圖 貼文時間: 2019-11-27T09:03:30.781Z 留言人數: 7 按讚人數 53\n",
      "標題: 可愛ㄉ米克斯🐶 貼文時間: 2019-11-27T03:08:52.535Z 留言人數: 10 按讚人數 49\n",
      "標題: 教不到2天就會握手的貓？！ 貼文時間: 2019-11-27T19:05:47.181Z 留言人數: 22 按讚人數 47\n",
      "標題: 小cookie 一歲生日嘍 貼文時間: 2019-11-27T13:29:28.841Z 留言人數: 3 按讚人數 47\n",
      "標題: 這些狗你認識嗎😍 貼文時間: 2019-11-28T04:08:18.539Z 留言人數: 6 按讚人數 45\n",
      "標題: 黑貓 貼文時間: 2019-11-27T01:46:18.916Z 留言人數: 4 按讚人數 45\n",
      "標題: 充滿柴柴的人生❤️ 貼文時間: 2019-11-28T07:19:45.391Z 留言人數: 2 按讚人數 34\n",
      "標題: 兔子吃草a跩樣 貼文時間: 2019-11-27T17:48:07.040Z 留言人數: 2 按讚人數 31\n",
      "標題: 開箱ㄐㄅ貓貓 貼文時間: 2019-11-27T16:20:13.198Z 留言人數: 1 按讚人數 31\n",
      "標題: 送養貓咪 貼文時間: 2019-11-27T14:33:01.950Z 留言人數: 2 按讚人數 29\n",
      "標題: #更新  尋貓啟示（拜託幫幫忙 貼文時間: 2019-11-27T02:42:25.099Z 留言人數: 2 按讚人數 26\n",
      "標題: 耐ㄍ⋯ 貼文時間: 2019-11-27T16:36:38.742Z 留言人數: 7 按讚人數 24\n",
      "標題: 尋貓啟示 更新#高雄岡山岡燕路全聯附近 貼文時間: 2019-11-27T11:11:21.836Z 留言人數: 8 按讚人數 22\n",
      "標題: 幼貓送養文 貼文時間: 2019-11-28T02:52:25.651Z 留言人數: 4 按讚人數 20\n",
      "標題: 妳的柯基犬很可愛 貼文時間: 2019-11-27T12:15:40.192Z 留言人數: 12 按讚人數 19\n",
      "標題: 蛇蛇吃飯（不喜勿入喔 貼文時間: 2019-11-27T07:36:04.550Z 留言人數: 6 按讚人數 19\n",
      "標題: 高科大校板的遺失倉鼠 貼文時間: 2019-11-28T05:23:12.530Z 留言人數: 0 按讚人數 18\n",
      "標題: ［協助汪星人回家］ 貼文時間: 2019-11-27T02:13:43.258Z 留言人數: 0 按讚人數 17\n",
      "標題: 請問這樣算不算虐貓 貼文時間: 2019-11-28T09:04:40.825Z 留言人數: 3 按讚人數 15\n",
      "標題: 貓咪要如何避免被自己的💩臭死？ 貼文時間: 2019-11-27T14:33:19.704Z 留言人數: 2 按讚人數 15\n",
      "標題: 終於知道去哪裡學來的睡姿⋯⋯ 貼文時間: 2019-11-27T08:59:09.803Z 留言人數: 8 按讚人數 14\n",
      "標題: #募款 #貓 愛在街角，守護浪貓 貼文時間: 2019-11-28T07:11:04.741Z 留言人數: 1 按讚人數 12\n",
      "標題: 紙袋破壞王🏆 貼文時間: 2019-11-28T09:43:33.709Z 留言人數: 0 按讚人數 11\n",
      "標題: 睡姿同步之雙傻組 貼文時間: 2019-11-27T00:56:58.462Z 留言人數: 1 按讚人數 11\n"
     ]
    }
   ],
   "source": [
    "# 2. 取出每一筆資料的「標題」、「貼文時間」、「留言人數」、「按讚人數」\n",
    "\n",
    "for item in datas:\n",
    "    title=item['title']\n",
    "    createdAt=item['createdAt']\n",
    "    commentCount=item['commentCount']\n",
    "    likeCount=item['likeCount']\n",
    "    print('標題:',title,'貼文時間:',createdAt,'留言人數:',commentCount,'按讚人數',likeCount)"
   ]
  },
  {
   "cell_type": "code",
   "execution_count": 127,
   "metadata": {},
   "outputs": [
    {
     "name": "stdout",
     "output_type": "stream",
     "text": [
      "熱門文章的平均留言人數為: 6.6 熱門文章的平均按讚人數為: 97.7\n",
      "非熱門文章的平均留言人數為: 2.2 熱門文章的平均按讚人數為: 10.3\n"
     ]
    }
   ],
   "source": [
    "# 3. 計算熱門/非熱門文章的「平均留言人數」與「平均按讚人數」\n",
    "\n",
    "r = requests.get('https://www.dcard.tw/_api/forums/pet/posts?popular=true')\n",
    "n = requests.get('https://www.dcard.tw/_api/forums/pet/posts?popular=false')#依時間順序\n",
    "pop = r.text\n",
    "npop = n.text\n",
    "pop_data=json.loads(pop)\n",
    "npop_data=json.loads(npop)\n",
    "\n",
    "com = []\n",
    "like = []\n",
    "for item in pop_data:\n",
    "    commc=item['commentCount']\n",
    "    likeC=item['likeCount']\n",
    "    com.append(commc)\n",
    "    like.append(likeC)\n",
    "c = com\n",
    "l = like\n",
    "\n",
    "ncom=[]\n",
    "nlike=[]\n",
    "for item in npop_data:\n",
    "    ncommc=item['commentCount']\n",
    "    nlikeC=item['likeCount']\n",
    "    ncom.append(ncommc)\n",
    "    nlike.append(nlikeC)\n",
    "nc = ncom\n",
    "nl = nlike\n",
    "    \n",
    "    \n",
    "import numpy as np\n",
    "\n",
    "print('熱門文章的平均留言人數為:',round(np.mean(c),1),'熱門文章的平均按讚人數為:',round(np.mean(l),1))\n",
    "print('非熱門文章的平均留言人數為:',round(np.mean(nc),1),'熱門文章的平均按讚人數為:',round(np.mean(nl),1))"
   ]
  },
  {
   "cell_type": "code",
   "execution_count": null,
   "metadata": {},
   "outputs": [],
   "source": []
  },
  {
   "cell_type": "code",
   "execution_count": null,
   "metadata": {},
   "outputs": [],
   "source": []
  }
 ],
 "metadata": {
  "kernelspec": {
   "display_name": "Python 3",
   "language": "python",
   "name": "python3"
  },
  "language_info": {
   "codemirror_mode": {
    "name": "ipython",
    "version": 3
   },
   "file_extension": ".py",
   "mimetype": "text/x-python",
   "name": "python",
   "nbconvert_exporter": "python",
   "pygments_lexer": "ipython3",
   "version": "3.7.3"
  }
 },
 "nbformat": 4,
 "nbformat_minor": 2
}
