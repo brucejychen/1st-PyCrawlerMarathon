{
 "cells": [
  {
   "cell_type": "markdown",
   "metadata": {},
   "source": [
    "# PTT 網路爬蟲實作練習\n",
    "\n",
    "\n",
    "* 能夠利用 Request + BeatifulSour 撰寫爬蟲，並存放到合適的資料結構\n"
   ]
  },
  {
   "cell_type": "markdown",
   "metadata": {},
   "source": [
    "## 作業目標\n",
    "\n",
    "根據範例 ，完成以下問題：\n",
    "\n",
    "* ① 印出最新文章的「作者」「標題」「時間」\n",
    "* ② 印出第一頁所有文章的「作者」「標題」「時間」\n"
   ]
  },
  {
   "cell_type": "markdown",
   "metadata": {},
   "source": [
    "### ① 印出最新文章的「作者」「標題」「時間」"
   ]
  },
  {
   "cell_type": "code",
   "execution_count": 82,
   "metadata": {},
   "outputs": [
    {
     "name": "stdout",
     "output_type": "stream",
     "text": [
      "作者: Rambo (香帥) 標題: [Live] 快艇 @ 湖人 時間: Thu Dec 26 08:30:01 2019\n",
      "作者: thnlkj0665 (灰色地帶) 標題: [情報] 勇士隊 本季首度擊敗勝率超過五成的球隊 時間: Thu Dec 26 09:11:53 2019\n",
      "作者: lens82801 (開始QQ的見習生) 標題: [外絮] 溜馬Victor Oladipo可望於一月底歸隊 時間: Thu Dec 26 09:40:25 2019\n",
      "作者: pneumo (超☆冒險蓋) 標題: Re: [情報] 勇士隊 本季首度擊敗勝率超過五成的球隊 時間: Thu Dec 26 09:47:16 2019\n",
      "作者: Vedan (味丹) 標題: [公告] 樂透取消及未來不再開啟樂透 時間: Mon Jun 24 15:08:02 2019\n",
      "作者: qazwsx879345 (Rajon Rondo) 標題: [公告] 版主上任相關事項  時間: Fri Oct 25 10:44:03 2019\n",
      "作者: JerroLi (銀色小刀) 標題: [情報] SEASON Schedule 賽程 December 19–20 時間: Fri Nov 29 00:46:01 2019\n"
     ]
    }
   ],
   "source": [
    "import requests\n",
    "from bs4 import BeautifulSoup\n",
    "\n",
    "url = 'https://www.ptt.cc/bbs/NBA/index.html'\n",
    "r = requests.get(url)\n",
    "\n",
    "soup = BeautifulSoup(r.text, \"html5lib\")\n",
    "\n",
    "title=soup.find(class_=\"title\")\n",
    "\n",
    "for d in soup.find_all(class_='title'):\n",
    "    title=d.text.replace('\\t','').replace('\\n','')\n",
    "    try:\n",
    "        r=BeautifulSoup(requests.get(\"https://www.ptt.cc\"+d.find(\"a\")[\"href\"]).text,\"html5lib\")\n",
    "        time=r.select(\"#main-content > div:nth-of-type(4) > span.article-meta-value\")\n",
    "        author=r.select(\"#main-content > div:nth-of-type(1)>span.article-meta-value\")\n",
    "        print(\"作者:\",author[0].text,\"標題:\",title,\"時間:\",time[0].text)\n",
    "    except:\n",
    "        continue"
   ]
  },
  {
   "cell_type": "markdown",
   "metadata": {},
   "source": [
    "### ② 印出第一頁所有文章的「作者」「標題」「時間」"
   ]
  },
  {
   "cell_type": "code",
   "execution_count": 83,
   "metadata": {},
   "outputs": [
    {
     "name": "stdout",
     "output_type": "stream",
     "text": [
      "作者: Price (Price) 標題: [轉錄]Lyotard 對於太陽板討論串的結論 時間: Sun May 16 01:54:33 2004\n",
      "作者: Price (Price) 標題: [公告] 請停止一切關於本次活動的發言 時間: Mon May 24 00:43:00 2004\n",
      "作者: Frankaze (神采風華) 標題: [轉錄]跟之前那篇比起來 我覺得這篇也應該轉過來 時間: Tue Jun  8 01:16:45 2004\n",
      "作者: Frankaze (神采風華) 標題: [轉錄]再轉一篇好文來 時間: Tue Jun  8 09:02:23 2004\n",
      "作者: Price (Price) 標題: [轉錄][情報] 夏洛特山貓系列 時間: Thu Jun 10 00:39:35 2004\n",
      "作者: Price (Price) 標題: [轉錄]Re: [心得] 真是受不了糗爺.... 時間: Thu Jun 10 00:51:35 2004\n",
      "作者: Price (Price) 標題: [轉錄]總冠軍賽NO.2觀後感 時間: Thu Jun 10 12:05:07 2004\n",
      "作者: AmuroNamie (原來太嗨真的會失眠^___^) 標題: [心得] Rasheed Wallace 時間: Fri Jun 11 15:06:09 2004\n",
      "作者: toptree (  ) 標題: 掌控球賽的男人 時間: Sat Jun 12 07:13:04 2004\n",
      "作者: skchang (3EB板開板囉！) 標題: [閒聊] 說說2004季後賽名場面回顧 時間: Sat Jun 12 13:21:49 2004\n",
      "作者: shineup () 標題: [心得] 其實說穿了 就是活塞的防守太可怕了 時間: Sat Jun 12 13:12:47 2004\n",
      "作者: cOvi (喵~) 標題: Re: [閒聊] 說說2004季後賽名場面回顧 時間: Sat Jun 12 16:43:07 2004\n",
      "作者: ykshih (￼N￼Ns) 標題: Re: [閒聊] 說說2004季後賽名場面回顧 時間: Sat Jun 12 17:26:37 2004\n",
      "作者: Frankaze (神采風華) 標題: Re: [閒聊] 說說2004季後賽名場面回顧 時間: Sat Jun 12 18:34:46 2004\n",
      "作者: Price (Price) 標題: [轉錄]Re: 總冠軍賽NO.3觀後感 時間: Mon Jun 14 02:18:52 2004\n",
      "作者: Frankaze (神采風華) 標題: [轉錄]Re: 總冠軍賽NO.3觀後感 時間: Mon Jun 14 02:34:33 2004\n",
      "作者: star1 (第一次魔術表演不算成功) 標題: Re: [轉錄]Re: 總冠軍賽NO.3觀後感 時間: Mon Jun 14 07:16:30 2004\n",
      "作者: coldspring (笑笑) 標題: Re: [轉錄]Re: 總冠軍賽NO.3觀後感 時間: Mon Jun 14 09:24:57 2004\n",
      "作者: airbear (地圖) 標題: Re: Kobe is frustrated... 時間: Mon Jun 14 12:56:14 2004\n",
      "作者: pennykidd (andre) 標題: Re: [轉錄]Re: 總冠軍賽NO.3觀後感 時間: Mon Jun 14 22:07:01 2004\n"
     ]
    }
   ],
   "source": [
    "import requests\n",
    "from bs4 import BeautifulSoup\n",
    "\n",
    "url = 'https://www.ptt.cc/bbs/NBA/index1.html'\n",
    "r = requests.get(url)\n",
    "\n",
    "soup = BeautifulSoup(r.text, \"html5lib\")\n",
    "\n",
    "title=soup.find(class_=\"title\")\n",
    "\n",
    "for d in soup.find_all(class_='title'):\n",
    "    title=d.text.replace('\\t','').replace('\\n','')\n",
    "    try:\n",
    "        r=BeautifulSoup(requests.get(\"https://www.ptt.cc\"+d.find(\"a\")[\"href\"]).text,\"html5lib\")\n",
    "        time=r.select(\"#main-content > div:nth-of-type(4) > span.article-meta-value\")\n",
    "        author=r.select(\"#main-content > div:nth-of-type(1)>span.article-meta-value\")\n",
    "        print(\"作者:\",author[0].text,\"標題:\",title,\"時間:\",time[0].text)\n",
    "    except:\n",
    "        continue"
   ]
  },
  {
   "cell_type": "markdown",
   "metadata": {},
   "source": [
    "### ③ 試著爬爬看其他版的文章"
   ]
  },
  {
   "cell_type": "code",
   "execution_count": 84,
   "metadata": {},
   "outputs": [
    {
     "name": "stdout",
     "output_type": "stream",
     "text": [
      "作者: assggy (IamCarmelo) 標題: [閒聊] 為啥日本王道漫畫都沒有談戀愛 時間: Thu Dec 26 09:42:03 2019\n",
      "作者: an94mod0 (はる球団) 標題: [光頭] 禪禪禪世 時間: Thu Dec 26 09:42:16 2019\n",
      "作者: songgood (ilovegoodgame) 標題: [AGA] 鹽味 感覺想舔 時間: Thu Dec 26 09:44:58 2019\n",
      "作者: a125g (醬油膏) 標題: [閒聊] 你各位敢喝星白汁嗎？ 時間: Thu Dec 26 09:49:03 2019\n",
      "作者: makinoyui (六花本命・六花王) 標題: [霙] 藍髮赤瞳少女 好可愛！ 時間: Thu Dec 26 09:50:36 2019\n",
      "作者: astrayzip 標題: [發錢] 迴光返照！重甲機神第六周票房增350% 時間: Thu Dec 26 09:52:38 2019\n",
      "作者: PttRecreator (飄逸) 標題: [問題] 請問甲鐵城電影推嗎 時間: Thu Dec 26 09:57:30 2019\n",
      "作者: battlecat (eastern undefeated) 標題: Re: [閒聊] 制約與誓約的運作機制疑問 時間: Thu Dec 26 10:00:04 2019\n",
      "作者: jensheng09 (甲甲都從後面來) 標題: Re: [問題] 為什麼給別人看影片就可以洗腦 時間: Thu Dec 26 10:00:18 2019\n",
      "作者: jschenlemn (sinra) 標題: [公告] C_Chat板板規v.16.3.0+板務建議+好文補M  時間: Sat Sep 14 01:23:34 2019\n",
      "作者: durantjosh (肚爛特‧喬許) 標題: [19秋] 2019年秋番 台灣觀賞管道整理 時間: Tue Oct  1 22:07:42 2019\n",
      "作者: SaberTheBest (Saber最高!) 標題: [20冬] 冬番各作品首播時間 時間: Thu Dec 12 22:57:46 2019\n",
      "作者: jschenlemn (sinra) 標題: [公告] 看板活動& 臨時板規與公告彙整& 閒聊區  時間: Mon Dec 16 10:22:11 2019\n",
      "作者: durantjosh (肚爛特‧喬許) 標題: [20冬] 2020年冬番期待度調查問卷 時間: Mon Dec 23 20:41:48 2019\n"
     ]
    }
   ],
   "source": [
    "#爬了 C_chat版\n",
    "import requests\n",
    "from bs4 import BeautifulSoup\n",
    "\n",
    "url = 'https://www.ptt.cc/bbs/C_chat/index.html'\n",
    "r = requests.get(url)\n",
    "\n",
    "soup = BeautifulSoup(r.text, \"html5lib\")\n",
    "\n",
    "title=soup.find(class_=\"title\")\n",
    "\n",
    "for d in soup.find_all(class_='title'):\n",
    "    title=d.text.replace('\\t','').replace('\\n','')\n",
    "    try:\n",
    "        r=BeautifulSoup(requests.get(\"https://www.ptt.cc\"+d.find(\"a\")[\"href\"]).text,\"html5lib\")\n",
    "        time=r.select(\"#main-content > div:nth-of-type(4) > span.article-meta-value\")\n",
    "        author=r.select(\"#main-content > div:nth-of-type(1)>span.article-meta-value\")\n",
    "        print(\"作者:\",author[0].text,\"標題:\",title,\"時間:\",time[0].text)\n",
    "    except:\n",
    "        continue"
   ]
  },
  {
   "cell_type": "code",
   "execution_count": null,
   "metadata": {},
   "outputs": [],
   "source": []
  }
 ],
 "metadata": {
  "kernelspec": {
   "display_name": "Python 3",
   "language": "python",
   "name": "python3"
  },
  "language_info": {
   "codemirror_mode": {
    "name": "ipython",
    "version": 3
   },
   "file_extension": ".py",
   "mimetype": "text/x-python",
   "name": "python",
   "nbconvert_exporter": "python",
   "pygments_lexer": "ipython3",
   "version": "3.7.4"
  }
 },
 "nbformat": 4,
 "nbformat_minor": 2
}
